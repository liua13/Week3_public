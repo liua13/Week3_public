{
  "nbformat": 4,
  "nbformat_minor": 0,
  "metadata": {
    "colab": {
      "name": "02TextureClassificationWithNeuralNets.ipynb",
      "version": "0.3.2",
      "provenance": [],
      "collapsed_sections": []
    },
    "kernelspec": {
      "name": "python3",
      "display_name": "Python 3"
    },
    "accelerator": "GPU"
  },
  "cells": [
    {
      "metadata": {
        "id": "PBk7hgRJ4hRE",
        "colab_type": "text"
      },
      "cell_type": "markdown",
      "source": [
        "# Tissue Classification using Neural Networks\n",
        "In this lab we will explore the use of texture in images and traditional machine learning approaches such as clustering. The dataset we will be using is available here: http://dx.doi.org/10.5281/zenodo.53169. \n",
        "\n",
        "![alt text](https://www.researchgate.net/profile/Jakob_Kather/publication/303998214/figure/fig7/AS:391073710002224@1470250646407/Representative-images-from-our-dataset-Here-the-first-10-images-of-every-tissue-class.png)\n",
        "\n",
        "The above figure shows the 8 different classes of tissue we will be trying to identify. "
      ]
    },
    {
      "metadata": {
        "id": "j9HUVMyJ4hRG",
        "colab_type": "code",
        "colab": {}
      },
      "cell_type": "code",
      "source": [
        "# Imports\n",
        "from __future__ import print_function\n",
        "import os\n",
        "import numpy as np\n",
        "import matplotlib.pylab as plt\n",
        "from sklearn.model_selection import train_test_split\n",
        "from tensorflow.keras import Sequential\n",
        "from tensorflow.keras.layers import Dense\n",
        "from tensorflow.keras.optimizers import SGD\n",
        "from tensorflow.keras.utils import to_categorical"
      ],
      "execution_count": 0,
      "outputs": []
    },
    {
      "metadata": {
        "id": "0rWqAlD84hRN",
        "colab_type": "text"
      },
      "cell_type": "markdown",
      "source": [
        "## Step 1\n",
        "* Load the data (done for you)\n",
        " * The \"data\" variable stores 5000 images of shape 150x150. This means data has shape (5000, 150, 150). These images are loaded here as grayscale.\n",
        " * The \"labels\" variable stores 5000 labels (0-7). This means \"labels\" has shape (5000,)\n",
        "* Split data into training and testing subsets (left up to you)\n",
        " * Check out the sklearn function train_test_split from sklearn.model_selection"
      ]
    },
    {
      "metadata": {
        "id": "mJo-Fc6A4hRP",
        "colab_type": "code",
        "colab": {
          "base_uri": "https://localhost:8080/",
          "height": 34
        },
        "outputId": "33d1ad8f-f833-4b1d-f316-91634568376e"
      },
      "cell_type": "code",
      "source": [
        "! git clone https://github.com/BeaverWorksMedlytics/Week3_public.git\n",
        "\n",
        "# Build the path to the data folder. No need to change directories\n",
        "# There are a total of 6 files you will have to load\n",
        "data_dir = os.path.join( os.getcwd(), 'Week3_public', 'data', 'crc')"
      ],
      "execution_count": 2,
      "outputs": [
        {
          "output_type": "stream",
          "text": [
            "fatal: destination path 'Week3_public' already exists and is not an empty directory.\r\n"
          ],
          "name": "stdout"
        }
      ]
    },
    {
      "metadata": {
        "id": "HKTScej54hRU",
        "colab_type": "code",
        "colab": {
          "base_uri": "https://localhost:8080/",
          "height": 204
        },
        "outputId": "5815737d-e566-4934-f439-ffc55b76e7f4"
      },
      "cell_type": "code",
      "source": [
        "# Load data and split into training, testing sets\n",
        "y = np.load(os.path.join(data_dir, 'rgb01.npz'))\n",
        "labels = y['labels']\n",
        "data = y['rgb_data']\n",
        "data = data[:,:,:,0]\n",
        "label_str = y['label_str']\n",
        "label_str = label_str.tolist() # this is to convert label_str back to a dictionary\n",
        "y = []\n",
        "\n",
        "print(data.shape)\n",
        "for ii in range(2,6):\n",
        "    filename = os.path.join(data_dir, 'rgb0' + str(ii) + '.npz')\n",
        "    print('loading ', filename)\n",
        "    y = np.load(filename)\n",
        "    labels = np.append(labels, y['labels'], axis=0)\n",
        "    data = np.append(data, y['rgb_data'][:,:,:,0], axis=0)\n",
        "    print(data.shape)\n",
        "    y = []\n",
        "\n",
        "\n",
        "print( data.shape )\n",
        "print( labels.shape )"
      ],
      "execution_count": 3,
      "outputs": [
        {
          "output_type": "stream",
          "text": [
            "(1000, 150, 150)\n",
            "loading  /content/Week3_public/data/crc/rgb02.npz\n",
            "(2000, 150, 150)\n",
            "loading  /content/Week3_public/data/crc/rgb03.npz\n",
            "(3000, 150, 150)\n",
            "loading  /content/Week3_public/data/crc/rgb04.npz\n",
            "(4000, 150, 150)\n",
            "loading  /content/Week3_public/data/crc/rgb05.npz\n",
            "(5000, 150, 150)\n",
            "(5000, 150, 150)\n",
            "(5000,)\n"
          ],
          "name": "stdout"
        }
      ]
    },
    {
      "metadata": {
        "id": "k55a7z6L4hRW",
        "colab_type": "code",
        "colab": {}
      },
      "cell_type": "code",
      "source": [
        "num_images, nrows, ncols = data.shape\n",
        "\n",
        "# convert the labels from 1-D arrays to categorical type \n",
        "labels = to_categorical(labels)\n",
        "\n",
        "# split into training and testing sets\n",
        "X_train, X_test, y_train, y_test = train_test_split(data, labels, test_size = 0.25, random_state = 0)"
      ],
      "execution_count": 0,
      "outputs": []
    },
    {
      "metadata": {
        "id": "955WO4HE4hRZ",
        "colab_type": "text"
      },
      "cell_type": "markdown",
      "source": [
        "## Normalize and Reshape Data\n",
        "All images should be normalized to the range 0-1 by dividing by 255.\n",
        "\n",
        "Additionally, because this is a ANN, not a CNN, we need to reshape the data to be one dimensional. In training and test data, colapse the row and column dimensions into one dimension using reshape().\n",
        "#### Note\n",
        "* Using the La\\*b colorspace : If you convert your images to the La\\*b colorspace, the scaling factor will change. Each channel in this colorspace will have a different range and normalization of each space will involve scaling each channel separately. Additionally, the a\\* channel can have a negative range. This also needs to be taken into account. \n",
        "* Using the HSV/HSI colorspace : Similar considerations apply if you are using the HSV/HSI colorspace. The only difference is that the HSV/HSI colorspace will have all positive values."
      ]
    },
    {
      "metadata": {
        "id": "eWkDphoh4hRa",
        "colab_type": "code",
        "colab": {
          "base_uri": "https://localhost:8080/",
          "height": 34
        },
        "outputId": "b8116328-5ee8-4cba-d068-6c0aa52603c6"
      },
      "cell_type": "code",
      "source": [
        "# Assuming we are using the RGB colorspace\n",
        "# Normalize all images so that they are 0-1\n",
        "\n",
        "num_images, nrows, ncols = X_train.shape\n",
        "X_train = X_train.astype('float')/255\n",
        "X_train = X_train.reshape(num_images,nrows*ncols)\n",
        "\n",
        "num_images2, nrows2, ncols2 = X_test.shape\n",
        "X_test = X_test.astype('float')/255\n",
        "X_test = X_test.reshape(num_images2,nrows2*ncols2)\n",
        "\n",
        "print(X_train.shape)"
      ],
      "execution_count": 5,
      "outputs": [
        {
          "output_type": "stream",
          "text": [
            "(3750, 22500)\n"
          ],
          "name": "stdout"
        }
      ]
    },
    {
      "metadata": {
        "id": "zPC7bjF74hRc",
        "colab_type": "text"
      },
      "cell_type": "markdown",
      "source": [
        "## Step 2\n",
        "At this point, the data has been split into training and testing sets and normalized. We will now design a fully connected neural network for texture classification. \n",
        "\n",
        "<img src=\"http://cs231n.github.io/assets/nn1/neural_net2.jpeg\" width=\"50%\"></img>\n",
        "\n",
        "( Image from http://cs231n.github.io/convolutional-networks/ )\n",
        "\n",
        "When designing a fully connected network for classification, we have several decisions to make.\n",
        "\n",
        "**Network Architecuture**\n",
        "* How many layers will our network have ?\n",
        "* How many neurons per layer ?\n",
        "* What is an appropriate batch size, learning rate and number of training epochs ?\n",
        "\n",
        "**Data input**\n",
        "* Do we use the raw data ?\n",
        "    * RGB or just gray channel ?\n",
        "* Does the use of different colorspaces lead to better results for a given network architecture ?\n",
        "* Can we use any of the texture features from the previous lab as inputs to this model ?\n",
        "* How does data augmentation affect the results ? \n",
        "\n",
        "Other considerations, we will not be exploring :\n",
        "* What is the trade-off between input data sizes and batch size ?\n",
        "* Is the GPU always the appropriate platform for training ?\n",
        "* How does hardware influence inputs and batch sizes for a given desired accuracy ?"
      ]
    },
    {
      "metadata": {
        "id": "rm8iHsFF4hRd",
        "colab_type": "code",
        "colab": {}
      },
      "cell_type": "code",
      "source": [
        "# Define the data shapes based on your decision to use rgb or grayscale or other colorpsaces or texture features or \n",
        "# some combination of these inputs\n",
        "num_classes = 8 \n",
        "input_shape = nrows*ncols"
      ],
      "execution_count": 0,
      "outputs": []
    },
    {
      "metadata": {
        "id": "q4Q3AADK4hRg",
        "colab_type": "text"
      },
      "cell_type": "markdown",
      "source": [
        "## Step 3\n",
        "Design your network here using Keras"
      ]
    },
    {
      "metadata": {
        "id": "18Mpluyc4hRg",
        "colab_type": "code",
        "colab": {
          "base_uri": "https://localhost:8080/",
          "height": 340
        },
        "outputId": "e31546f7-059b-4fd6-8096-0cf6ebeb6696"
      },
      "cell_type": "code",
      "source": [
        "# Create your network\n",
        "model = []\n",
        "model = Sequential()\n",
        "\n",
        "model.add(Dense(128, activation=\"relu\", input_shape = (input_shape,)))\n",
        "\n",
        "# Add fully connected layers \n",
        "model.add(Dense(1024, activation=\"relu\"))\n",
        "model.add(Dense(512, activation=\"relu\"))\n",
        "model.add(Dense(256, activation=\"relu\"))\n",
        "model.add(Dense(128, activation=\"relu\"))\n",
        "\n",
        "# See Dense : https://keras.io/layers/core/#dense\n",
        "\n",
        "# Add final output layer - This should have as many neurons as the number\n",
        "# of classes we are trying to identify\n",
        "model.add(Dense(8, activation=\"softmax\"))\n",
        "\n",
        "model.summary()"
      ],
      "execution_count": 7,
      "outputs": [
        {
          "output_type": "stream",
          "text": [
            "_________________________________________________________________\n",
            "Layer (type)                 Output Shape              Param #   \n",
            "=================================================================\n",
            "dense (Dense)                (None, 128)               2880128   \n",
            "_________________________________________________________________\n",
            "dense_1 (Dense)              (None, 1024)              132096    \n",
            "_________________________________________________________________\n",
            "dense_2 (Dense)              (None, 512)               524800    \n",
            "_________________________________________________________________\n",
            "dense_3 (Dense)              (None, 256)               131328    \n",
            "_________________________________________________________________\n",
            "dense_4 (Dense)              (None, 128)               32896     \n",
            "_________________________________________________________________\n",
            "dense_5 (Dense)              (None, 8)                 1032      \n",
            "=================================================================\n",
            "Total params: 3,702,280\n",
            "Trainable params: 3,702,280\n",
            "Non-trainable params: 0\n",
            "_________________________________________________________________\n"
          ],
          "name": "stdout"
        }
      ]
    },
    {
      "metadata": {
        "id": "Jzt0c71-4hRj",
        "colab_type": "text"
      },
      "cell_type": "markdown",
      "source": [
        "## Step 4\n",
        "Compile the model you designed. Compiltation of the Keras model results in the initialization of model weights and sets other model properties."
      ]
    },
    {
      "metadata": {
        "id": "Utkn9Tqc4hRk",
        "colab_type": "code",
        "colab": {
          "base_uri": "https://localhost:8080/",
          "height": 34
        },
        "outputId": "49856f21-7b18-49e5-93a8-a55192755614"
      },
      "cell_type": "code",
      "source": [
        "from tensorflow.train import AdamOptimizer\n",
        "import keras\n",
        "model.compile(optimizer=AdamOptimizer(0.0001), loss=keras.losses.categorical_crossentropy, metrics = ['accuracy'] )"
      ],
      "execution_count": 8,
      "outputs": [
        {
          "output_type": "stream",
          "text": [
            "Using TensorFlow backend.\n"
          ],
          "name": "stderr"
        }
      ]
    },
    {
      "metadata": {
        "id": "hMXqy9jM4hRn",
        "colab_type": "text"
      },
      "cell_type": "markdown",
      "source": [
        "## Step 5\n",
        "Train model"
      ]
    },
    {
      "metadata": {
        "id": "o0s4RNTs4hRo",
        "colab_type": "code",
        "colab": {
          "base_uri": "https://localhost:8080/",
          "height": 3437
        },
        "outputId": "527dc548-2126-4f69-9712-b2a69b6e9396"
      },
      "cell_type": "code",
      "source": [
        "y = model.fit(X_train, y_train, epochs=100, batch_size=600, verbose=1 )"
      ],
      "execution_count": 9,
      "outputs": [
        {
          "output_type": "stream",
          "text": [
            "Epoch 1/100\n",
            "3750/3750 [==============================] - 3s 761us/step - loss: 2.0612 - acc: 0.1293\n",
            "Epoch 2/100\n",
            "3750/3750 [==============================] - 2s 470us/step - loss: 2.0490 - acc: 0.1216\n",
            "Epoch 3/100\n",
            "3750/3750 [==============================] - 2s 470us/step - loss: 2.0421 - acc: 0.1259\n",
            "Epoch 4/100\n",
            "3750/3750 [==============================] - 2s 467us/step - loss: 2.0445 - acc: 0.1248\n",
            "Epoch 5/100\n",
            "3750/3750 [==============================] - 2s 470us/step - loss: 2.0417 - acc: 0.1211\n",
            "Epoch 6/100\n",
            "3750/3750 [==============================] - 2s 472us/step - loss: 2.0374 - acc: 0.1245\n",
            "Epoch 7/100\n",
            "3750/3750 [==============================] - 2s 471us/step - loss: 2.0310 - acc: 0.1227\n",
            "Epoch 8/100\n",
            "3750/3750 [==============================] - 2s 469us/step - loss: 2.0298 - acc: 0.1227\n",
            "Epoch 9/100\n",
            "3750/3750 [==============================] - 2s 473us/step - loss: 2.0289 - acc: 0.1387\n",
            "Epoch 10/100\n",
            "3750/3750 [==============================] - 2s 472us/step - loss: 2.0269 - acc: 0.1232\n",
            "Epoch 11/100\n",
            "3750/3750 [==============================] - 2s 470us/step - loss: 2.0207 - acc: 0.1208\n",
            "Epoch 12/100\n",
            "3750/3750 [==============================] - 2s 470us/step - loss: 2.0200 - acc: 0.1229\n",
            "Epoch 13/100\n",
            "3750/3750 [==============================] - 3s 693us/step - loss: 2.0159 - acc: 0.1304\n",
            "Epoch 14/100\n",
            "3750/3750 [==============================] - 2s 635us/step - loss: 2.0127 - acc: 0.1355\n",
            "Epoch 15/100\n",
            "3750/3750 [==============================] - 2s 490us/step - loss: 2.0015 - acc: 0.1315\n",
            "Epoch 16/100\n",
            "1200/3750 [========>.....................] - ETA: 1s - loss: 2.0005 - acc: 0.1333"
          ],
          "name": "stdout"
        },
        {
          "output_type": "stream",
          "text": [
            "3750/3750 [==============================] - 2s 473us/step - loss: 2.0000 - acc: 0.1352\n",
            "Epoch 17/100\n",
            "3750/3750 [==============================] - 2s 466us/step - loss: 1.9869 - acc: 0.1533\n",
            "Epoch 18/100\n",
            "3750/3750 [==============================] - 2s 469us/step - loss: 1.9753 - acc: 0.1533\n",
            "Epoch 19/100\n",
            "3750/3750 [==============================] - 2s 460us/step - loss: 1.9677 - acc: 0.1853\n",
            "Epoch 20/100\n",
            "3750/3750 [==============================] - 2s 466us/step - loss: 1.9607 - acc: 0.1752\n",
            "Epoch 21/100\n",
            "3750/3750 [==============================] - 2s 480us/step - loss: 1.9563 - acc: 0.2109\n",
            "Epoch 22/100\n",
            "3750/3750 [==============================] - 2s 473us/step - loss: 1.9405 - acc: 0.2355\n",
            "Epoch 23/100\n",
            "3750/3750 [==============================] - 2s 466us/step - loss: 1.9126 - acc: 0.2800\n",
            "Epoch 24/100\n",
            "3750/3750 [==============================] - 2s 468us/step - loss: 1.8710 - acc: 0.2741\n",
            "Epoch 25/100\n",
            "3750/3750 [==============================] - 2s 467us/step - loss: 1.8452 - acc: 0.2901\n",
            "Epoch 26/100\n",
            "3750/3750 [==============================] - 2s 465us/step - loss: 1.8176 - acc: 0.3208\n",
            "Epoch 27/100\n",
            "3750/3750 [==============================] - 2s 468us/step - loss: 1.7869 - acc: 0.2909\n",
            "Epoch 28/100\n",
            "3750/3750 [==============================] - 2s 467us/step - loss: 1.7439 - acc: 0.3197\n",
            "Epoch 29/100\n",
            "3750/3750 [==============================] - 2s 466us/step - loss: 1.6970 - acc: 0.3373\n",
            "Epoch 30/100\n",
            "3750/3750 [==============================] - 2s 471us/step - loss: 1.6739 - acc: 0.3259\n",
            "Epoch 31/100\n",
            "1800/3750 [=============>................] - ETA: 0s - loss: 1.8876 - acc: 0.2506"
          ],
          "name": "stdout"
        },
        {
          "output_type": "stream",
          "text": [
            "3750/3750 [==============================] - 2s 466us/step - loss: 2.0446 - acc: 0.2309\n",
            "Epoch 32/100\n",
            "3750/3750 [==============================] - 2s 474us/step - loss: 2.0161 - acc: 0.1787\n",
            "Epoch 33/100\n",
            "3750/3750 [==============================] - 2s 467us/step - loss: 1.9401 - acc: 0.2085\n",
            "Epoch 34/100\n",
            "3750/3750 [==============================] - 2s 466us/step - loss: 1.8783 - acc: 0.2173\n",
            "Epoch 35/100\n",
            "3750/3750 [==============================] - 2s 472us/step - loss: 1.8323 - acc: 0.2437\n",
            "Epoch 36/100\n",
            "3750/3750 [==============================] - 2s 467us/step - loss: 1.7858 - acc: 0.2629\n",
            "Epoch 37/100\n",
            "3750/3750 [==============================] - 2s 470us/step - loss: 1.7495 - acc: 0.2789\n",
            "Epoch 38/100\n",
            "3750/3750 [==============================] - 2s 468us/step - loss: 1.7139 - acc: 0.3200\n",
            "Epoch 39/100\n",
            "3750/3750 [==============================] - 2s 463us/step - loss: 1.6891 - acc: 0.3056\n",
            "Epoch 40/100\n",
            "3750/3750 [==============================] - 2s 466us/step - loss: 1.6767 - acc: 0.3496\n",
            "Epoch 41/100\n",
            "3750/3750 [==============================] - 2s 464us/step - loss: 1.6379 - acc: 0.3453\n",
            "Epoch 42/100\n",
            "3750/3750 [==============================] - 2s 464us/step - loss: 1.6026 - acc: 0.3893\n",
            "Epoch 43/100\n",
            "3750/3750 [==============================] - 2s 471us/step - loss: 1.5895 - acc: 0.3776\n",
            "Epoch 44/100\n",
            "3750/3750 [==============================] - 2s 467us/step - loss: 1.5557 - acc: 0.3965\n",
            "Epoch 45/100\n",
            "3750/3750 [==============================] - 2s 471us/step - loss: 1.6602 - acc: 0.3451\n",
            "Epoch 46/100\n",
            "1800/3750 [=============>................] - ETA: 0s - loss: 1.5956 - acc: 0.3228"
          ],
          "name": "stdout"
        },
        {
          "output_type": "stream",
          "text": [
            "3750/3750 [==============================] - 2s 469us/step - loss: 1.5749 - acc: 0.3475\n",
            "Epoch 47/100\n",
            "3750/3750 [==============================] - 2s 466us/step - loss: 1.5313 - acc: 0.4053\n",
            "Epoch 48/100\n",
            "3750/3750 [==============================] - 2s 466us/step - loss: 1.4983 - acc: 0.4243\n",
            "Epoch 49/100\n",
            "3750/3750 [==============================] - 2s 466us/step - loss: 1.4597 - acc: 0.4603\n",
            "Epoch 50/100\n",
            "3750/3750 [==============================] - 2s 468us/step - loss: 1.4334 - acc: 0.4400\n",
            "Epoch 51/100\n",
            "3750/3750 [==============================] - 2s 465us/step - loss: 1.4029 - acc: 0.4939\n",
            "Epoch 52/100\n",
            "3750/3750 [==============================] - 2s 469us/step - loss: 1.3837 - acc: 0.4741\n",
            "Epoch 53/100\n",
            "3750/3750 [==============================] - 2s 472us/step - loss: 1.3947 - acc: 0.4453\n",
            "Epoch 54/100\n",
            "3750/3750 [==============================] - 2s 473us/step - loss: 1.4235 - acc: 0.4565\n",
            "Epoch 55/100\n",
            "3750/3750 [==============================] - 2s 475us/step - loss: 1.4381 - acc: 0.4064\n",
            "Epoch 56/100\n",
            "3750/3750 [==============================] - 2s 477us/step - loss: 1.4898 - acc: 0.3893\n",
            "Epoch 57/100\n",
            "3750/3750 [==============================] - 2s 470us/step - loss: 1.4113 - acc: 0.4179\n",
            "Epoch 58/100\n",
            "3750/3750 [==============================] - 2s 471us/step - loss: 1.3568 - acc: 0.4739\n",
            "Epoch 59/100\n",
            "3750/3750 [==============================] - 2s 468us/step - loss: 1.3250 - acc: 0.4632\n",
            "Epoch 60/100\n",
            "3750/3750 [==============================] - 2s 471us/step - loss: 1.3211 - acc: 0.4968\n",
            "Epoch 61/100\n",
            "1800/3750 [=============>................] - ETA: 0s - loss: 1.3479 - acc: 0.4511"
          ],
          "name": "stdout"
        },
        {
          "output_type": "stream",
          "text": [
            "3750/3750 [==============================] - 2s 469us/step - loss: 1.3428 - acc: 0.4557\n",
            "Epoch 62/100\n",
            "3750/3750 [==============================] - 2s 471us/step - loss: 1.3113 - acc: 0.4851\n",
            "Epoch 63/100\n",
            "3750/3750 [==============================] - 2s 471us/step - loss: 1.2886 - acc: 0.4851\n",
            "Epoch 64/100\n",
            "3750/3750 [==============================] - 2s 470us/step - loss: 1.2656 - acc: 0.4995\n",
            "Epoch 65/100\n",
            "3750/3750 [==============================] - 2s 470us/step - loss: 1.2264 - acc: 0.5464\n",
            "Epoch 66/100\n",
            "3750/3750 [==============================] - 2s 472us/step - loss: 1.2011 - acc: 0.5589\n",
            "Epoch 67/100\n",
            "3750/3750 [==============================] - 2s 468us/step - loss: 1.2001 - acc: 0.5480\n",
            "Epoch 68/100\n",
            "3750/3750 [==============================] - 2s 471us/step - loss: 1.1801 - acc: 0.5624\n",
            "Epoch 69/100\n",
            "3750/3750 [==============================] - 2s 473us/step - loss: 1.1588 - acc: 0.5723\n",
            "Epoch 70/100\n",
            "3750/3750 [==============================] - 2s 470us/step - loss: 1.1658 - acc: 0.5531\n",
            "Epoch 71/100\n",
            "3750/3750 [==============================] - 2s 472us/step - loss: 1.2657 - acc: 0.4909\n",
            "Epoch 72/100\n",
            "3750/3750 [==============================] - 2s 466us/step - loss: 1.2714 - acc: 0.4939\n",
            "Epoch 73/100\n",
            "3750/3750 [==============================] - 2s 471us/step - loss: 1.2908 - acc: 0.4920\n",
            "Epoch 74/100\n",
            "3750/3750 [==============================] - 2s 469us/step - loss: 1.1887 - acc: 0.5293\n",
            "Epoch 75/100\n",
            "3750/3750 [==============================] - 2s 465us/step - loss: 1.1504 - acc: 0.5845\n",
            "Epoch 76/100\n",
            "1800/3750 [=============>................] - ETA: 0s - loss: 1.1914 - acc: 0.4883"
          ],
          "name": "stdout"
        },
        {
          "output_type": "stream",
          "text": [
            "3750/3750 [==============================] - 2s 473us/step - loss: 1.1610 - acc: 0.5427\n",
            "Epoch 77/100\n",
            "3750/3750 [==============================] - 2s 471us/step - loss: 1.1153 - acc: 0.5904\n",
            "Epoch 78/100\n",
            "3750/3750 [==============================] - 2s 485us/step - loss: 1.0815 - acc: 0.6125\n",
            "Epoch 79/100\n",
            "3750/3750 [==============================] - 2s 492us/step - loss: 1.0763 - acc: 0.5963\n",
            "Epoch 80/100\n",
            "3750/3750 [==============================] - 2s 475us/step - loss: 1.0541 - acc: 0.6053\n",
            "Epoch 81/100\n",
            "3750/3750 [==============================] - 2s 474us/step - loss: 1.0742 - acc: 0.5984\n",
            "Epoch 82/100\n",
            "3750/3750 [==============================] - 2s 476us/step - loss: 1.1322 - acc: 0.5768\n",
            "Epoch 83/100\n",
            "3750/3750 [==============================] - 2s 481us/step - loss: 1.1875 - acc: 0.5243\n",
            "Epoch 84/100\n",
            "3750/3750 [==============================] - 2s 475us/step - loss: 1.1666 - acc: 0.5208\n",
            "Epoch 85/100\n",
            "3750/3750 [==============================] - 2s 479us/step - loss: 1.1511 - acc: 0.5429\n",
            "Epoch 86/100\n",
            "3750/3750 [==============================] - 2s 478us/step - loss: 1.1147 - acc: 0.5840\n",
            "Epoch 87/100\n",
            "3750/3750 [==============================] - 2s 471us/step - loss: 1.0834 - acc: 0.5608\n",
            "Epoch 88/100\n",
            "3750/3750 [==============================] - 2s 476us/step - loss: 1.0414 - acc: 0.6152\n",
            "Epoch 89/100\n",
            "3750/3750 [==============================] - 2s 478us/step - loss: 1.0349 - acc: 0.5797\n",
            "Epoch 90/100\n",
            "3750/3750 [==============================] - 2s 479us/step - loss: 1.0331 - acc: 0.6240\n",
            "Epoch 91/100\n",
            "1800/3750 [=============>................] - ETA: 0s - loss: 1.0264 - acc: 0.6406"
          ],
          "name": "stdout"
        },
        {
          "output_type": "stream",
          "text": [
            "3750/3750 [==============================] - 2s 476us/step - loss: 1.0286 - acc: 0.6285\n",
            "Epoch 92/100\n",
            "3750/3750 [==============================] - 2s 474us/step - loss: 0.9775 - acc: 0.6552\n",
            "Epoch 93/100\n",
            "3750/3750 [==============================] - 2s 477us/step - loss: 0.9571 - acc: 0.6469\n",
            "Epoch 94/100\n",
            "3750/3750 [==============================] - 2s 479us/step - loss: 0.9529 - acc: 0.6680\n",
            "Epoch 95/100\n",
            "3750/3750 [==============================] - 2s 478us/step - loss: 0.9388 - acc: 0.6632\n",
            "Epoch 96/100\n",
            "3750/3750 [==============================] - 2s 475us/step - loss: 0.9599 - acc: 0.6568\n",
            "Epoch 97/100\n",
            "3750/3750 [==============================] - 2s 481us/step - loss: 0.9168 - acc: 0.6776\n",
            "Epoch 98/100\n",
            "3750/3750 [==============================] - 2s 478us/step - loss: 0.9042 - acc: 0.6973\n",
            "Epoch 99/100\n",
            "3750/3750 [==============================] - 2s 474us/step - loss: 0.9809 - acc: 0.6283\n",
            "Epoch 100/100\n",
            "3750/3750 [==============================] - 2s 482us/step - loss: 0.9504 - acc: 0.6739\n"
          ],
          "name": "stdout"
        }
      ]
    },
    {
      "metadata": {
        "id": "Jd9MGDK94hRr",
        "colab_type": "text"
      },
      "cell_type": "markdown",
      "source": [
        "## Step 6\n",
        "See how your model performs by uisng it for inference.\n",
        "* What is the accuracy of classification ?\n",
        "* Change your model, re-compile and test. Can you improve the accuracy of the model ?\n"
      ]
    },
    {
      "metadata": {
        "id": "KyAeLkGo4hRt",
        "colab_type": "code",
        "colab": {}
      },
      "cell_type": "code",
      "source": [
        "# predict labels - use the test set for prediction\n",
        "pred_labels = model.predict(X_test)"
      ],
      "execution_count": 0,
      "outputs": []
    },
    {
      "metadata": {
        "id": "TJEhLJKx4hRv",
        "colab_type": "code",
        "colab": {
          "base_uri": "https://localhost:8080/",
          "height": 170
        },
        "outputId": "7734348b-5327-4a03-e88a-7da7716ed603"
      },
      "cell_type": "code",
      "source": [
        "from sklearn.metrics import accuracy_score\n",
        "from sklearn.metrics import confusion_matrix\n",
        "\n",
        "test_labels = y_test\n",
        "# We need to convert the categorical array test_labels and pred_labels into a vector\n",
        "# in order to use it in the calculation of the confusion matrix (i.e. convert from one-hot to integers)\n",
        "mat = confusion_matrix(np.argmax(test_labels, axis=1), np.argmax(pred_labels, axis=1))\n",
        "acc = accuracy_score(np.argmax(test_labels, axis=1), np.argmax(pred_labels, axis=1))\n",
        "print(acc)\n",
        "print(mat)"
      ],
      "execution_count": 11,
      "outputs": [
        {
          "output_type": "stream",
          "text": [
            "0.4352\n",
            "[[ 10   2 111   0   0   1   0  31]\n",
            " [  1 105  26   5   1   0   2   0]\n",
            " [  3   8  98   0   0   4   0  41]\n",
            " [  0  58   4  57   5   0  23   0]\n",
            " [ 12  21 103   2  10   0  10   5]\n",
            " [  0   0   0   0   0 157   0   1]\n",
            " [  0  45  17  50   9   0  52   0]\n",
            " [  0   0  21   0   0  84   0  55]]\n"
          ],
          "name": "stdout"
        }
      ]
    },
    {
      "metadata": {
        "id": "Em2WIdYb4hRx",
        "colab_type": "code",
        "colab": {
          "base_uri": "https://localhost:8080/",
          "height": 388
        },
        "outputId": "449b5dfb-7352-4510-e4c5-502459c558fb"
      },
      "cell_type": "code",
      "source": [
        "plt.figure(figsize=(8,6))\n",
        "plt.imshow(mat, cmap='hot', interpolation='nearest')\n",
        "plt.grid(False)\n",
        "plt.colorbar()\n",
        "plt.xlabel('true label')\n",
        "plt.ylabel('predicted label')\n",
        "plt.show()"
      ],
      "execution_count": 12,
      "outputs": [
        {
          "output_type": "display_data",
          "data": {
            "image/png": "[encoded data removed]",
            "text/plain": [
              "<matplotlib.figure.Figure at 0x7fe38b322860>"
            ]
          },
          "metadata": {
            "tags": []
          }
        }
      ]
    },
    {
      "metadata": {
        "id": "GTaVC3IX4hR1",
        "colab_type": "text"
      },
      "cell_type": "markdown",
      "source": [
        "## Assignment\n",
        "* In Step 3 design your own network\n",
        "* Does the model perform better if you use all three RGB channels ?\n",
        "* How does the performance change when using the La*b colorspace ?\n"
      ]
    },
    {
      "metadata": {
        "id": "GAPOBem8kKPG",
        "colab_type": "code",
        "colab": {
          "base_uri": "https://localhost:8080/",
          "height": 204
        },
        "outputId": "d84b46d1-f889-46ca-8284-d639c185de4f"
      },
      "cell_type": "code",
      "source": [
        "\n",
        "# Load data as RGB\n",
        "y = np.load(os.path.join(data_dir, 'rgb01.npz'))\n",
        "labels = y['labels']\n",
        "data_rgb = y['rgb_data']\n",
        "label_str = y['label_str']\n",
        "label_str = label_str.tolist() # this is to convert label_str back to a dictionary\n",
        "y = []\n",
        "\n",
        "print(data_rgb.shape)\n",
        "for ii in range(2,6):\n",
        "    filename = os.path.join(data_dir, 'rgb0' + str(ii) + '.npz')\n",
        "    print('loading ', filename)\n",
        "    y = np.load(filename)\n",
        "    labels = np.append(labels, y['labels'], axis=0)\n",
        "    data_rgb = np.append(data_rgb, y['rgb_data'])\n",
        "    print(data_rgb.shape)\n",
        "    y = []\n",
        "\n",
        "data_rgb = data_rgb.astype('float')\n",
        "data_rgb = data_rgb.reshape(5000, 150, 150, 3)\n",
        "\n",
        "print( data_rgb.shape )\n",
        "print( labels.shape )\n",
        "\n",
        "num_images, nrows, ncols, dims = data_rgb.shape"
      ],
      "execution_count": 13,
      "outputs": [
        {
          "output_type": "stream",
          "text": [
            "(1000, 150, 150, 3)\n",
            "loading  /content/Week3_public/data/crc/rgb02.npz\n",
            "(135000000,)\n",
            "loading  /content/Week3_public/data/crc/rgb03.npz\n",
            "(202500000,)\n",
            "loading  /content/Week3_public/data/crc/rgb04.npz\n",
            "(270000000,)\n",
            "loading  /content/Week3_public/data/crc/rgb05.npz\n",
            "(337500000,)\n",
            "(5000, 150, 150, 3)\n",
            "(5000,)\n"
          ],
          "name": "stdout"
        }
      ]
    },
    {
      "metadata": {
        "id": "7kI1rNVCoWMt",
        "colab_type": "code",
        "colab": {}
      },
      "cell_type": "code",
      "source": [
        ""
      ],
      "execution_count": 0,
      "outputs": []
    }
  ]
}